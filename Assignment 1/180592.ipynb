{
 "cells": [
  {
   "cell_type": "markdown",
   "metadata": {
    "colab_type": "text",
    "id": "wQMXvnuokcVI"
   },
   "source": [
    "# EE698V Assignment 1\n",
    "- Use python3\n",
    "- Submit your \"rendered\" ipynb, i.e., with outputs of codes (plots and printed values) visible below\n",
    "- Do not change the return variables, as the evaluation is done by test cases based on the variables specified. Only add your code at \"### WRITE YOUR CODE HERE\"\n",
    "- Use only numpy library for computing and signal processing, no other package allowed\n",
    "- If you are using your mobile phone, you can use colab.research.google.com for coding"
   ]
  },
  {
   "cell_type": "code",
   "execution_count": 1,
   "metadata": {
    "colab": {
     "base_uri": "https://localhost:8080/",
     "height": 51
    },
    "colab_type": "code",
    "id": "9GUr8CsEkcVJ",
    "outputId": "5af7a95a-d03c-44d1-bba6-db3523197a4e"
   },
   "outputs": [],
   "source": [
    "import numpy as np\n",
    "import matplotlib.pyplot as plt\n",
    "# !pip install scipy     # you may need to use this in google colab\n",
    "from scipy.io import wavfile"
   ]
  },
  {
   "cell_type": "code",
   "execution_count": 2,
   "metadata": {
    "colab": {},
    "colab_type": "code",
    "id": "76wTtmb7kcVh"
   },
   "outputs": [],
   "source": [
    "# No need to edit this function\n",
    "def plot_discrete(x, xlabel='',ylabel=''):\n",
    "    'Plot x vs n'\n",
    "    from matplotlib.ticker import MaxNLocator\n",
    "    ax = plt.figure().gca()\n",
    "    ax.yaxis.set_major_locator(MaxNLocator(integer=True))\n",
    "    ax.stem(np.arange(0,len(x)), x, use_line_collection=True)\n",
    "    plt.xlabel(xlabel)\n",
    "    plt.ylabel(ylabel)\n",
    "    return\n",
    "def plot_continuous(x, Fs, xlabel='',ylabel=''):\n",
    "    'Plot x vs t, using sampling rate Fs'\n",
    "    Ts=1/Fs\n",
    "    N = len(x)\n",
    "    duration_in_s = N*Ts\n",
    "    plt.plot(np.arange(0,duration_in_s,Ts), x)\n",
    "    plt.xlabel(xlabel)\n",
    "    plt.ylabel(ylabel)\n",
    "    return"
   ]
  },
  {
   "cell_type": "markdown",
   "metadata": {
    "colab_type": "text",
    "id": "F4YlGOIfkcVO"
   },
   "source": [
    "### Generate Sawtooth signal"
   ]
  },
  {
   "cell_type": "markdown",
   "metadata": {
    "colab_type": "text",
    "id": "0qa2jM83kcVQ"
   },
   "source": [
    "Generate a sawtooth wave x (rising gradually and abruptly falling) with time period = T seconds, sampling rate Fs (in Hz), and length N. Its amplitude should vary between 0 and 1 (i.e. x[0]=0 and max(x)=1).\n",
    "NOTE: \n",
    "- The signal should start from zero amplitude. (i.e. rising edge should occur first)\n",
    "- For your own delight make sure you plot the signal.\n",
    "- Note, the discrete time period may not be integer; then the discrete signal will not be exactly periodic."
   ]
  },
  {
   "cell_type": "code",
   "execution_count": 3,
   "metadata": {
    "colab": {},
    "colab_type": "code",
    "id": "ThjVj_72kcVR"
   },
   "outputs": [],
   "source": [
    "def generateSawtooth(T, Fs, N):\n",
    "    '''\n",
    "    Return: \n",
    "        x: numpy array of shape (N,)\n",
    "    '''\n",
    "    t=np.arange(0, N/Fs, 1/Fs)\n",
    "    x=t/T-np.floor(t/T)\n",
    "\n",
    "    ### WRITE YOUR CODE HERE - 5 MARKS\n",
    "\n",
    "    return x"
   ]
  },
  {
   "cell_type": "code",
   "execution_count": 4,
   "metadata": {
    "colab": {
     "base_uri": "https://localhost:8080/",
     "height": 333
    },
    "colab_type": "code",
    "id": "zM6C81f-kcVV",
    "outputId": "57f37ff8-37a0-414b-d243-16ce556135de"
   },
   "outputs": [
    {
     "data": {
      "image/png": "[encoded data removed]",
      "text/plain": [
       "<Figure size 432x288 with 1 Axes>"
      ]
     },
     "metadata": {
      "needs_background": "light"
     },
     "output_type": "display_data"
    }
   ],
   "source": [
    "if __name__==\"__main__\": # use this line so that the following commands are not run when we import this script\n",
    "    T = .4\n",
    "    Fs = 10\n",
    "    N = 16\n",
    "    x = generateSawtooth(T, Fs, N)\n",
    "    plot_discrete(x, xlabel='n', ylabel='x[n]')"
   ]
  },
  {
   "cell_type": "markdown",
   "metadata": {
    "colab_type": "text",
    "id": "c02RjY-xta87"
   },
   "source": [
    "### Downsampling"
   ]
  },
  {
   "cell_type": "markdown",
   "metadata": {
    "colab_type": "text",
    "id": "2nR4eOoDkcVZ"
   },
   "source": [
    "Downsample the signal x[n] by a factor M. M should be a positive integer; return None if M is not."
   ]
  },
  {
   "cell_type": "code",
   "execution_count": 5,
   "metadata": {
    "colab": {},
    "colab_type": "code",
    "id": "UXz4uJvKkcVZ"
   },
   "outputs": [],
   "source": [
    "def downsample(x, M):\n",
    "    '''\n",
    "    Return:\n",
    "        y: numpy array of shape similar to x, but shorter by a factor M\n",
    "    '''\n",
    "    if(M<=0 or float(M).is_integer()==False):\n",
    "        return None\n",
    "    \n",
    "    y=x[0::M]\n",
    "\n",
    "    ### WRITE YOUR CODE HERE - 5 MARKS\n",
    "\n",
    "    return y"
   ]
  },
  {
   "cell_type": "code",
   "execution_count": 6,
   "metadata": {
    "colab": {
     "base_uri": "https://localhost:8080/",
     "height": 319
    },
    "colab_type": "code",
    "id": "NyG-SrUMkcVd",
    "outputId": "465adcce-e645-4552-c894-5cedba4c66d6"
   },
   "outputs": [
    {
     "data": {
      "image/png": "[encoded data removed]",
      "text/plain": [
       "<Figure size 432x288 with 1 Axes>"
      ]
     },
     "metadata": {
      "needs_background": "light"
     },
     "output_type": "display_data"
    },
    {
     "data": {
      "image/png": "[encoded data removed]",
      "text/plain": [
       "<Figure size 432x288 with 1 Axes>"
      ]
     },
     "metadata": {
      "needs_background": "light"
     },
     "output_type": "display_data"
    }
   ],
   "source": [
    "  if __name__==\"__main__\":\n",
    "    M = 2\n",
    "    y = downsample(x, M)\n",
    "    plot_discrete(x)\n",
    "    plot_discrete(y)"
   ]
  },
  {
   "cell_type": "markdown",
   "metadata": {
    "colab_type": "text",
    "id": "AsrEQvhxkcVq"
   },
   "source": [
    "### Filter\n",
    "If we pass a signal x[n] through a filter or a system with impulse response h[n], we get y[n]."
   ]
  },
  {
   "cell_type": "code",
   "execution_count": 7,
   "metadata": {
    "colab": {},
    "colab_type": "code",
    "id": "lGNQB7tnkcVr"
   },
   "outputs": [],
   "source": [
    "def filterSig(x, h):\n",
    "    '''\n",
    "    Return:\n",
    "        y: np array, filter output\n",
    "    '''\n",
    "    y=np.convolve(x, h)\n",
    "\n",
    "    ### WRITE YOUR CODE HERE - 5 MARKS\n",
    "\n",
    "    return y"
   ]
  },
  {
   "cell_type": "code",
   "execution_count": 8,
   "metadata": {
    "colab": {
     "base_uri": "https://localhost:8080/",
     "height": 319
    },
    "colab_type": "code",
    "id": "vP9JR13ekcVw",
    "outputId": "6e91fc74-ef80-4c35-a4c0-b2faa60aa361"
   },
   "outputs": [
    {
     "data": {
      "image/png": "[encoded data removed]",
      "text/plain": [
       "<Figure size 432x288 with 1 Axes>"
      ]
     },
     "metadata": {
      "needs_background": "light"
     },
     "output_type": "display_data"
    }
   ],
   "source": [
    "if __name__==\"__main__\":\n",
    "    h = [0,1,0]\n",
    "    y = filterSig(x,h)\n",
    "    plot_discrete(y)"
   ]
  },
  {
   "cell_type": "markdown",
   "metadata": {
    "colab_type": "text",
    "id": "2D88teydmui2"
   },
   "source": [
    "# Audio\n",
    "\n",
    "1. Add gaussian noise and write the wave file. Listen to it how the sound has changed.\n",
    "2. Filter it with a moving average filter and write the wav file. Listen to it how the sound has changed.\n",
    "3. Write a function to estimate the fundamental frequency F0 around a given t in sec.\n",
    "\n",
    "\n",
    "Now let's start with making functions"
   ]
  },
  {
   "cell_type": "markdown",
   "metadata": {
    "colab_type": "text",
    "id": "rWwfoWe6nE7H"
   },
   "source": [
    "### Read Audio\n",
    "Read audio file (use scipy library)\n",
    "\n",
    "Note: wavefile.read reads int16. Convert it to float by dividing with 32767."
   ]
  },
  {
   "cell_type": "code",
   "execution_count": 9,
   "metadata": {
    "colab": {},
    "colab_type": "code",
    "id": "7rhDcQZ5ldMv"
   },
   "outputs": [],
   "source": [
    "def readAudio(in_filename):\n",
    "    '''\n",
    "    Input:\n",
    "        in_filename: path to the input wav file (str)\n",
    "    Output:\n",
    "        x: waveform, take the first channel if it has two channels (np.array 1D)\n",
    "        Fs: sampling rate (int)\n",
    "    '''\n",
    "    Fs, x=wavfile.read(in_filename)\n",
    "    x=(x/32767)\n",
    "    ### WRITE YOUR CODE HERE - 5 MARKS\n",
    "\n",
    "    return x, Fs"
   ]
  },
  {
   "cell_type": "code",
   "execution_count": 10,
   "metadata": {
    "colab": {
     "base_uri": "https://localhost:8080/",
     "height": 324
    },
    "colab_type": "code",
    "id": "HpYnajvVsMYN",
    "outputId": "2aa69fc4-cc27-447d-d121-c87d836b8a9e"
   },
   "outputs": [],
   "source": [
    "if __name__==\"__main__\":\n",
    "    x_hari, Fs = readAudio('hari.wav')"
   ]
  },
  {
   "cell_type": "markdown",
   "metadata": {
    "colab_type": "text",
    "id": "ZpL7tpV7r5u8"
   },
   "source": [
    "### Write Audio\n",
    "Write audio file (use scipy library).\n",
    "\n",
    "Note: wavefile.write writes int16. Convert x from float by dividing with max(x) and multiplying with 32767, followed by type casting."
   ]
  },
  {
   "cell_type": "code",
   "execution_count": 11,
   "metadata": {
    "colab": {},
    "colab_type": "code",
    "id": "e5fq-3Q-7T03"
   },
   "outputs": [],
   "source": [
    "def writeAudio(x, Fs, out_filename):\n",
    "    '''\n",
    "    Input:\n",
    "        x: (np.array 1D)\n",
    "        Fs: sampling rate (int)\n",
    "    Output:\n",
    "        out_filename: path to the output wav file (str)\n",
    "    '''\n",
    "    x=np.int16(x/np.max(x)*32767)\n",
    "    wavfile.write(out_filename, Fs, x)\n",
    "\n",
    "    ### WRITE YOUR CODE HERE - 5 MARKS\n",
    "\n",
    "    return\n"
   ]
  },
  {
   "cell_type": "code",
   "execution_count": 12,
   "metadata": {
    "colab": {
     "base_uri": "https://localhost:8080/",
     "height": 181
    },
    "colab_type": "code",
    "id": "0dvVbPonrxvJ",
    "outputId": "66479b61-492d-4225-b208-4a05dca0cf3f"
   },
   "outputs": [],
   "source": [
    "if __name__==\"__main__\":\n",
    "    writeAudio(x_hari, Fs, 'x_hari.wav')"
   ]
  },
  {
   "cell_type": "markdown",
   "metadata": {
    "colab_type": "text",
    "id": "hnsNvWdLnS_8"
   },
   "source": [
    "### Add Noise\n",
    "Add guassian noise of specified mean and standard deviation to the signal"
   ]
  },
  {
   "cell_type": "code",
   "execution_count": 13,
   "metadata": {
    "colab": {},
    "colab_type": "code",
    "id": "DuVEPqGNkcV6"
   },
   "outputs": [],
   "source": [
    "def addNoise(xn, mu, sigma):\n",
    "    '''\n",
    "    Input:\n",
    "        xn: (np.array 1D)\n",
    "        mu: mean of Gaussian noise (float)\n",
    "        sigma: std dev of Gaussian noise (float)\n",
    "    Output:\n",
    "        yn: (np.array 1D) of same length as xn\n",
    "    '''\n",
    "    length=np.size(xn)\n",
    "    noise=np.random.normal(mu, sigma, length)\n",
    "    yn=noise+xn\n",
    "\n",
    "    ### WRITE YOUR CODE HERE - 5 MARKS\n",
    "\n",
    "    return yn"
   ]
  },
  {
   "cell_type": "code",
   "execution_count": 14,
   "metadata": {
    "colab": {
     "base_uri": "https://localhost:8080/",
     "height": 519
    },
    "colab_type": "code",
    "id": "Hxs4K7jlttLU",
    "outputId": "29e3a0a7-e889-478d-ef10-fd876634a4d6"
   },
   "outputs": [
    {
     "data": {
      "image/png": "[encoded data removed]",
      "text/plain": [
       "<Figure size 432x288 with 1 Axes>"
      ]
     },
     "metadata": {
      "needs_background": "light"
     },
     "output_type": "display_data"
    }
   ],
   "source": [
    "if __name__==\"__main__\":\n",
    "    plot_discrete(addNoise(x, 0, 0.1))\n",
    "    x_hari_noisy = addNoise(x_hari, 0, 0.1)\n",
    "    writeAudio(x_hari_noisy, Fs, 'x_hari_noisy.wav')"
   ]
  },
  {
   "cell_type": "markdown",
   "metadata": {
    "colab_type": "text",
    "id": "jx2ztYX2nlpo"
   },
   "source": [
    "### MA Filter\n",
    "Moving average filter for removing noise  \n",
    "(plot the noisy and filtered signals for comparison)\n",
    "\n",
    "$y[n] = \\frac{1}{M} \\sum_{m=0}^{M-1} x[n-m]$"
   ]
  },
  {
   "cell_type": "code",
   "execution_count": 15,
   "metadata": {
    "colab": {},
    "colab_type": "code",
    "id": "_WbIfdA4qoxJ"
   },
   "outputs": [],
   "source": [
    "def filter_MA(x, M):\n",
    "    '''\n",
    "    Return:\n",
    "        y: numpy array of shape similar to x\n",
    "    ''' \n",
    "    t=np.ones(M)\n",
    "    y=np.convolve(t, x)\n",
    "    ### WRITE YOUR CODE HERE - 5 MARKS\n",
    "\n",
    "    return y"
   ]
  },
  {
   "cell_type": "code",
   "execution_count": 16,
   "metadata": {
    "colab": {
     "base_uri": "https://localhost:8080/",
     "height": 319
    },
    "colab_type": "code",
    "id": "GWDq7xRSqd3E",
    "outputId": "945361f1-61da-4ec4-a1cc-9cd277d781db"
   },
   "outputs": [
    {
     "data": {
      "image/png": "[encoded data removed]",
      "text/plain": [
       "<Figure size 432x288 with 1 Axes>"
      ]
     },
     "metadata": {
      "needs_background": "light"
     },
     "output_type": "display_data"
    }
   ],
   "source": [
    "if __name__==\"__main__\":\n",
    "    plot_discrete(filter_MA(x, 3))\n",
    "    x_hari_filtered = filter_MA(x_hari_noisy, 20)\n",
    "    writeAudio(x_hari_filtered, Fs, 'x_hari_filtered.wav')"
   ]
  },
  {
   "cell_type": "markdown",
   "metadata": {
    "colab_type": "text",
    "id": "Uzz9f7MDoMVM"
   },
   "source": [
    "### F0 estimation\n",
    "Estimate fundamental frequency of a given signal"
   ]
  },
  {
   "cell_type": "code",
   "execution_count": 19,
   "metadata": {
    "colab": {},
    "colab_type": "code",
    "id": "Qcq76M0-kcWG"
   },
   "outputs": [],
   "source": [
    "def estimateF0(x, Fs):\n",
    "    '''\n",
    "    Output:\n",
    "        F0_Hz: (float) fundamental frequency in Hz\n",
    "    '''\n",
    "    b=np.correlate(x, x, \"full\")\n",
    "    a=b[int(len(b)/2):]\n",
    "    F0_Hz=1/(np.argmax(a[1:])+1)\n",
    "    plot_discrete(x)\n",
    "    plot_discrete(b)\n",
    "    plot_discrete(a)\n",
    "    F0_Hz=F0_Hz*Fs\n",
    "    \n",
    "    ### WRITE YOUR CODE HERE - 10 MARKS\n",
    "\n",
    "    return F0_Hz"
   ]
  },
  {
   "cell_type": "code",
   "execution_count": 20,
   "metadata": {
    "colab": {
     "base_uri": "https://localhost:8080/",
     "height": 336
    },
    "colab_type": "code",
    "id": "6sn3kY0Xwdsa",
    "outputId": "78d22478-2245-412a-ee0a-8c2a2aa67e2a"
   },
   "outputs": [
    {
     "name": "stdout",
     "output_type": "stream",
     "text": [
      "2.5\n"
     ]
    },
    {
     "data": {
      "image/png": "[encoded data removed]",
      "text/plain": [
       "<Figure size 432x288 with 1 Axes>"
      ]
     },
     "metadata": {
      "needs_background": "light"
     },
     "output_type": "display_data"
    },
    {
     "data": {
      "image/png": "[encoded data removed]",
      "text/plain": [
       "<Figure size 432x288 with 1 Axes>"
      ]
     },
     "metadata": {
      "needs_background": "light"
     },
     "output_type": "display_data"
    },
    {
     "data": {
      "image/png": "[encoded data removed]",
      "text/plain": [
       "<Figure size 432x288 with 1 Axes>"
      ]
     },
     "metadata": {
      "needs_background": "light"
     },
     "output_type": "display_data"
    }
   ],
   "source": [
    "if __name__==\"__main__\":\n",
    "    F0 = estimateF0(x, 10)\n",
    "    \n",
    "    print(F0)"
   ]
  },
  {
   "cell_type": "code",
   "execution_count": null,
   "metadata": {},
   "outputs": [],
   "source": []
  },
  {
   "cell_type": "code",
   "execution_count": null,
   "metadata": {},
   "outputs": [],
   "source": []
  }
 ],
 "metadata": {
  "colab": {
   "collapsed_sections": [],
   "name": "ass1_sol.ipynb",
   "provenance": []
  },
  "kernelspec": {
   "display_name": "Python 3",
   "language": "python",
   "name": "python3"
  },
  "language_info": {
   "codemirror_mode": {
    "name": "ipython",
    "version": 3
   },
   "file_extension": ".py",
   "mimetype": "text/x-python",
   "name": "python",
   "nbconvert_exporter": "python",
   "pygments_lexer": "ipython3",
   "version": "3.7.4"
  }
 },
 "nbformat": 4,
 "nbformat_minor": 1
}
